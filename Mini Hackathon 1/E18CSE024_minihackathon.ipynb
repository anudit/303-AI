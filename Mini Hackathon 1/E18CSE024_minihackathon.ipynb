{
  "nbformat": 4,
  "nbformat_minor": 0,
  "metadata": {
    "colab": {
      "name": "Mini_Hackathon.ipynb",
      "provenance": [],
      "collapsed_sections": []
    },
    "kernelspec": {
      "name": "python3",
      "display_name": "Python 3"
    },
    "accelerator": "GPU"
  },
  "cells": [
    {
      "cell_type": "markdown",
      "metadata": {
        "id": "DtoRKY9zOxMf"
      },
      "source": [
        "Name- Anudit Nagar\n",
        "\n",
        "EnrollmentNo- E18CSE024"
      ]
    },
    {
      "cell_type": "markdown",
      "metadata": {
        "id": "ZTlXlj8xAzxC"
      },
      "source": [
        "**Placement prediction for vocational training (short term training)**\n",
        "\n",
        "Problem statement:\n",
        "In this hackthon we will solve the placement prediction problem. Placement prediction has been done in two stage, first at the time of admission, second when training completed and result is availble.\n",
        "\n",
        "**Prediction at admission time:** In probem 1. column 17(Result) and 18(certificate) will not used as input feature.  \n",
        "\n",
        "**Prediction with result:** In probem 2. both Result and certificate will be included during prediction. \n",
        "\n",
        "**About Data**\n",
        "\n",
        " The feature of the data set are as follows:\n",
        "1. Gender\n",
        "2. agegroup\t\n",
        "3. EducationLevel\t\n",
        "4. TypeofDisability\t\n",
        "5. castecategory\t\n",
        "6. Religion\t\n",
        "7. Candidate State\t\n",
        "8. Candidate District\t\n",
        "9. PartnerName\t\n",
        "10. TC State\t\n",
        "11. TC District\t\n",
        "12. TC Constituency\t\n",
        "13. TC Name\t\n",
        "14. SectorName\t\n",
        "15. JobRole\t\n",
        "16. TotalCandidatesinBatch\t\n",
        "17. Result\t\n",
        "18. Certified\t\n",
        "\t\n",
        "Target column **placed**\n",
        "\n",
        "\"placed\": {\"Yes\": 1, \"No\": 2}\n",
        "\n",
        "All the columns in dataset converted into numbers with label encoding. \n",
        "\n",
        "You will get four csv file named as \n",
        "For probelm 1\n",
        "\n",
        "1. trainadmission.csv\n",
        "2. testadmission.csv\n",
        "\n",
        "For problem2\n",
        "\n",
        "3. trainresult.csv\n",
        "4. testresult.csv\n",
        "\n",
        "Submission or result and code:\n",
        "\n",
        "you are suppose to submit two csv file:\n",
        "\n",
        "1. \"enrollmentno\"_testadmission.csv\n",
        "2. \"enrollmentno\"_testresult.csv\n",
        "\n",
        "3. \"enrollmentno\"_hack1.ipynb  (python Notebook/ python file)\n",
        "\n",
        "both the submission includes placed column in test file at the end. \n",
        "\n",
        "Best wishes"
      ]
    },
    {
      "cell_type": "markdown",
      "metadata": {
        "id": "7cGNEB2aTd4E"
      },
      "source": [
        "# Problem 1 - Train Admission"
      ]
    },
    {
      "cell_type": "code",
      "metadata": {
        "id": "1eganxhL1gIj",
        "outputId": "90c850c2-d970-42d5-ad8c-e3291d25f03a",
        "colab": {
          "base_uri": "https://localhost:8080/",
          "height": 241
        }
      },
      "source": [
        "import matplotlib.pyplot as plt\n",
        "import numpy as np\n",
        "import pandas as pd\n",
        "from sklearn import datasets, linear_model\n",
        "from sklearn.metrics import mean_squared_error, r2_score\n",
        "\n",
        "train_df = pd.read_csv('trainadmission.csv')  \n",
        "train_df.head()"
      ],
      "execution_count": 1,
      "outputs": [
        {
          "output_type": "execute_result",
          "data": {
            "text/html": [
              "<div>\n",
              "<style scoped>\n",
              "    .dataframe tbody tr th:only-of-type {\n",
              "        vertical-align: middle;\n",
              "    }\n",
              "\n",
              "    .dataframe tbody tr th {\n",
              "        vertical-align: top;\n",
              "    }\n",
              "\n",
              "    .dataframe thead th {\n",
              "        text-align: right;\n",
              "    }\n",
              "</style>\n",
              "<table border=\"1\" class=\"dataframe\">\n",
              "  <thead>\n",
              "    <tr style=\"text-align: right;\">\n",
              "      <th></th>\n",
              "      <th>Unnamed: 0</th>\n",
              "      <th>Gender</th>\n",
              "      <th>TypeofDisability</th>\n",
              "      <th>castecategory</th>\n",
              "      <th>Religion</th>\n",
              "      <th>Candidate State</th>\n",
              "      <th>Candidate District</th>\n",
              "      <th>PartnerName</th>\n",
              "      <th>TC State</th>\n",
              "      <th>TC District</th>\n",
              "      <th>TC Constituency</th>\n",
              "      <th>TC Name</th>\n",
              "      <th>SectorName</th>\n",
              "      <th>JobRole</th>\n",
              "      <th>TotalCandidatesinBatch</th>\n",
              "      <th>agegroup</th>\n",
              "      <th>EducationLevel</th>\n",
              "      <th>placed</th>\n",
              "    </tr>\n",
              "  </thead>\n",
              "  <tbody>\n",
              "    <tr>\n",
              "      <th>0</th>\n",
              "      <td>124392</td>\n",
              "      <td>1</td>\n",
              "      <td>1</td>\n",
              "      <td>3</td>\n",
              "      <td>5</td>\n",
              "      <td>11</td>\n",
              "      <td>448</td>\n",
              "      <td>54</td>\n",
              "      <td>11</td>\n",
              "      <td>442</td>\n",
              "      <td>405</td>\n",
              "      <td>2752</td>\n",
              "      <td>4</td>\n",
              "      <td>4</td>\n",
              "      <td>1</td>\n",
              "      <td>2</td>\n",
              "      <td>2</td>\n",
              "      <td>2</td>\n",
              "    </tr>\n",
              "    <tr>\n",
              "      <th>1</th>\n",
              "      <td>99020</td>\n",
              "      <td>1</td>\n",
              "      <td>1</td>\n",
              "      <td>3</td>\n",
              "      <td>3</td>\n",
              "      <td>13</td>\n",
              "      <td>189</td>\n",
              "      <td>59</td>\n",
              "      <td>13</td>\n",
              "      <td>187</td>\n",
              "      <td>82</td>\n",
              "      <td>365</td>\n",
              "      <td>9</td>\n",
              "      <td>35</td>\n",
              "      <td>1</td>\n",
              "      <td>4</td>\n",
              "      <td>3</td>\n",
              "      <td>1</td>\n",
              "    </tr>\n",
              "    <tr>\n",
              "      <th>2</th>\n",
              "      <td>1109</td>\n",
              "      <td>2</td>\n",
              "      <td>1</td>\n",
              "      <td>3</td>\n",
              "      <td>3</td>\n",
              "      <td>11</td>\n",
              "      <td>108</td>\n",
              "      <td>59</td>\n",
              "      <td>11</td>\n",
              "      <td>105</td>\n",
              "      <td>102</td>\n",
              "      <td>925</td>\n",
              "      <td>9</td>\n",
              "      <td>35</td>\n",
              "      <td>1</td>\n",
              "      <td>3</td>\n",
              "      <td>3</td>\n",
              "      <td>1</td>\n",
              "    </tr>\n",
              "    <tr>\n",
              "      <th>3</th>\n",
              "      <td>131599</td>\n",
              "      <td>2</td>\n",
              "      <td>1</td>\n",
              "      <td>1</td>\n",
              "      <td>3</td>\n",
              "      <td>6</td>\n",
              "      <td>83</td>\n",
              "      <td>654</td>\n",
              "      <td>6</td>\n",
              "      <td>81</td>\n",
              "      <td>192</td>\n",
              "      <td>2342</td>\n",
              "      <td>22</td>\n",
              "      <td>57</td>\n",
              "      <td>1</td>\n",
              "      <td>2</td>\n",
              "      <td>4</td>\n",
              "      <td>1</td>\n",
              "    </tr>\n",
              "    <tr>\n",
              "      <th>4</th>\n",
              "      <td>113142</td>\n",
              "      <td>1</td>\n",
              "      <td>1</td>\n",
              "      <td>3</td>\n",
              "      <td>5</td>\n",
              "      <td>20</td>\n",
              "      <td>376</td>\n",
              "      <td>66</td>\n",
              "      <td>20</td>\n",
              "      <td>372</td>\n",
              "      <td>528</td>\n",
              "      <td>580</td>\n",
              "      <td>5</td>\n",
              "      <td>5</td>\n",
              "      <td>1</td>\n",
              "      <td>3</td>\n",
              "      <td>3</td>\n",
              "      <td>1</td>\n",
              "    </tr>\n",
              "  </tbody>\n",
              "</table>\n",
              "</div>"
            ],
            "text/plain": [
              "   Unnamed: 0  Gender  TypeofDisability  ...  agegroup  EducationLevel  placed\n",
              "0      124392       1                 1  ...         2               2       2\n",
              "1       99020       1                 1  ...         4               3       1\n",
              "2        1109       2                 1  ...         3               3       1\n",
              "3      131599       2                 1  ...         2               4       1\n",
              "4      113142       1                 1  ...         3               3       1\n",
              "\n",
              "[5 rows x 18 columns]"
            ]
          },
          "metadata": {
            "tags": []
          },
          "execution_count": 1
        }
      ]
    },
    {
      "cell_type": "code",
      "metadata": {
        "id": "K68yPlJK13Xq",
        "outputId": "b350dae7-0f30-47da-b8ec-c02272baaedd",
        "colab": {
          "base_uri": "https://localhost:8080/"
        }
      },
      "source": [
        "train_x = train_df[['Gender', 'TypeofDisability', 'castecategory', 'Religion', 'Candidate State', 'Candidate District', 'PartnerName', 'TC State','TC District','TC Constituency','TC Name','SectorName',\t'JobRole','TotalCandidatesinBatch','agegroup','EducationLevel']]\n",
        "train_y = train_df[['placed']]\n",
        "\n",
        "train_x = train_x[:int(0.8*len(train_x))]\n",
        "train_y = train_y[:int(0.8*len(train_y))]\n",
        "\n",
        "test_x = train_x[int(0.8*len(train_x)):]\n",
        "test_y = train_y[int(0.8*len(train_y)):]\n",
        "print(train_x.shape, train_y.shape)\n",
        "print(test_x.shape, test_y.shape)"
      ],
      "execution_count": 2,
      "outputs": [
        {
          "output_type": "stream",
          "text": [
            "(102000, 16) (102000, 1)\n",
            "(20400, 16) (20400, 1)\n"
          ],
          "name": "stdout"
        }
      ]
    },
    {
      "cell_type": "code",
      "metadata": {
        "id": "Q6IDcTKw21Zq",
        "outputId": "78c59c7f-2fc8-4497-faaf-34134d6ebe7a",
        "colab": {
          "base_uri": "https://localhost:8080/"
        }
      },
      "source": [
        "from sklearn.ensemble import GradientBoostingClassifier\n",
        "from sklearn.multioutput import MultiOutputClassifier\n",
        "\n",
        "regr = MultiOutputClassifier(\n",
        "    GradientBoostingClassifier(\n",
        "        learning_rate=0.1,\n",
        "        n_estimators=500,\n",
        "        max_depth=16,\n",
        "        verbose=1\n",
        "      )\n",
        "    )\n",
        "regr.fit(train_x, train_y)\n",
        "pred_y = regr.predict(test_x)\n",
        "print(pred_y.shape)"
      ],
      "execution_count": 3,
      "outputs": [
        {
          "output_type": "stream",
          "text": [
            "      Iter       Train Loss   Remaining Time \n",
            "         1           1.3112           11.78m\n",
            "         2           1.2525           12.33m\n",
            "         3           1.2034           12.38m\n",
            "         4           1.1593           12.44m\n",
            "         5           1.1201           12.62m\n",
            "         6           1.0834           12.83m\n",
            "         7           1.0524           12.90m\n",
            "         8           1.0211           13.03m\n",
            "         9           0.9940           13.12m\n",
            "        10           0.9670           13.23m\n",
            "        20           0.7859           13.50m\n",
            "        30           0.6689           13.42m\n",
            "        40           0.5772           13.10m\n",
            "        50           0.5145           12.67m\n",
            "        60           0.4692           12.18m\n",
            "        70           0.4358           11.69m\n",
            "        80           0.4054           11.27m\n",
            "        90           0.3701           10.97m\n",
            "       100           0.3409           10.69m\n",
            "       200           0.1899            7.86m\n",
            "       300           0.1408            5.26m\n",
            "       400           0.1264            2.62m\n",
            "       500           0.1223            0.00s\n",
            "(20400, 1)\n"
          ],
          "name": "stdout"
        }
      ]
    },
    {
      "cell_type": "code",
      "metadata": {
        "id": "dYCSOXXM9cF7",
        "outputId": "c7be97da-be7f-4943-9e61-1b461aa6331a",
        "colab": {
          "base_uri": "https://localhost:8080/"
        }
      },
      "source": [
        "cnt = 0\n",
        "for ind, val in enumerate(test_y['placed']):\n",
        "  if(test_y['placed'].values[ind] == pred_y[ind]):\n",
        "    cnt+=1\n",
        "\n",
        "print(f\"Train acc : {(cnt/len(test_y)*100)} %\")"
      ],
      "execution_count": 7,
      "outputs": [
        {
          "output_type": "stream",
          "text": [
            "Train acc : 96.09313725490196 %\n"
          ],
          "name": "stdout"
        }
      ]
    },
    {
      "cell_type": "code",
      "metadata": {
        "id": "97AgIdraTyDs",
        "outputId": "83790bb1-ff35-4452-f573-2e79eae5f88b",
        "colab": {
          "base_uri": "https://localhost:8080/"
        }
      },
      "source": [
        "# Create submission using 'testadmission.csv'\n",
        "submission_df = pd.read_csv('testadmission.csv') \n",
        "submission_df_x = submission_df[['Gender', 'TypeofDisability', 'castecategory', 'Religion', 'Candidate State', 'Candidate District', 'PartnerName', 'TC State','TC District','TC Constituency','TC Name','SectorName',\t'JobRole','TotalCandidatesinBatch','agegroup','EducationLevel']]\n",
        "\n",
        "submission_pred_y = regr.predict(submission_df_x)\n",
        "submission = [2 if x >= thres else 1 for x in submission_pred_y] # Quantization\n",
        "\n",
        "submission_df['placed'] = submission\n",
        "print(submission_df.head())\n",
        "submission_df.to_csv('testadmission-submission.csv', index=False)  "
      ],
      "execution_count": 8,
      "outputs": [
        {
          "output_type": "stream",
          "text": [
            "   Unnamed: 0  Gender  TypeofDisability  ...  agegroup  EducationLevel  placed\n",
            "0       19934       2                 1  ...         3               3       1\n",
            "1       58270       2                 1  ...         4               3       1\n",
            "2      143862       2                 1  ...         7               2       2\n",
            "3       72890       1                 1  ...         3               2       1\n",
            "4       83926       1                 1  ...         3               3       2\n",
            "\n",
            "[5 rows x 18 columns]\n"
          ],
          "name": "stdout"
        }
      ]
    },
    {
      "cell_type": "markdown",
      "metadata": {
        "id": "ht3b9DMna1ji"
      },
      "source": [
        "# Problem 2 - Train Result"
      ]
    },
    {
      "cell_type": "code",
      "metadata": {
        "id": "vu8Qz2pva0_4",
        "outputId": "42646558-fb23-4cde-cac4-06fb923d201d",
        "colab": {
          "base_uri": "https://localhost:8080/",
          "height": 241
        }
      },
      "source": [
        "import matplotlib.pyplot as plt\n",
        "import numpy as np\n",
        "import pandas as pd\n",
        "from sklearn import datasets, linear_model\n",
        "from sklearn.metrics import mean_squared_error, r2_score\n",
        "\n",
        "train_df = pd.read_csv('trainresult.csv')  \n",
        "train_df.head()"
      ],
      "execution_count": 9,
      "outputs": [
        {
          "output_type": "execute_result",
          "data": {
            "text/html": [
              "<div>\n",
              "<style scoped>\n",
              "    .dataframe tbody tr th:only-of-type {\n",
              "        vertical-align: middle;\n",
              "    }\n",
              "\n",
              "    .dataframe tbody tr th {\n",
              "        vertical-align: top;\n",
              "    }\n",
              "\n",
              "    .dataframe thead th {\n",
              "        text-align: right;\n",
              "    }\n",
              "</style>\n",
              "<table border=\"1\" class=\"dataframe\">\n",
              "  <thead>\n",
              "    <tr style=\"text-align: right;\">\n",
              "      <th></th>\n",
              "      <th>Unnamed: 0</th>\n",
              "      <th>Gender</th>\n",
              "      <th>TypeofDisability</th>\n",
              "      <th>castecategory</th>\n",
              "      <th>Religion</th>\n",
              "      <th>Candidate State</th>\n",
              "      <th>Candidate District</th>\n",
              "      <th>PartnerName</th>\n",
              "      <th>TC State</th>\n",
              "      <th>TC District</th>\n",
              "      <th>TC Constituency</th>\n",
              "      <th>TC Name</th>\n",
              "      <th>SectorName</th>\n",
              "      <th>JobRole</th>\n",
              "      <th>TotalCandidatesinBatch</th>\n",
              "      <th>Result</th>\n",
              "      <th>Certified</th>\n",
              "      <th>agegroup</th>\n",
              "      <th>EducationLevel</th>\n",
              "      <th>placed</th>\n",
              "    </tr>\n",
              "  </thead>\n",
              "  <tbody>\n",
              "    <tr>\n",
              "      <th>0</th>\n",
              "      <td>86994</td>\n",
              "      <td>1</td>\n",
              "      <td>1</td>\n",
              "      <td>3</td>\n",
              "      <td>4</td>\n",
              "      <td>4</td>\n",
              "      <td>489</td>\n",
              "      <td>140</td>\n",
              "      <td>4</td>\n",
              "      <td>480</td>\n",
              "      <td>430</td>\n",
              "      <td>512</td>\n",
              "      <td>7</td>\n",
              "      <td>10</td>\n",
              "      <td>1</td>\n",
              "      <td>1</td>\n",
              "      <td>1</td>\n",
              "      <td>6</td>\n",
              "      <td>3</td>\n",
              "      <td>1</td>\n",
              "    </tr>\n",
              "    <tr>\n",
              "      <th>1</th>\n",
              "      <td>118637</td>\n",
              "      <td>2</td>\n",
              "      <td>1</td>\n",
              "      <td>3</td>\n",
              "      <td>3</td>\n",
              "      <td>13</td>\n",
              "      <td>34</td>\n",
              "      <td>246</td>\n",
              "      <td>13</td>\n",
              "      <td>34</td>\n",
              "      <td>103</td>\n",
              "      <td>410</td>\n",
              "      <td>3</td>\n",
              "      <td>45</td>\n",
              "      <td>1</td>\n",
              "      <td>1</td>\n",
              "      <td>1</td>\n",
              "      <td>2</td>\n",
              "      <td>3</td>\n",
              "      <td>1</td>\n",
              "    </tr>\n",
              "    <tr>\n",
              "      <th>2</th>\n",
              "      <td>130745</td>\n",
              "      <td>2</td>\n",
              "      <td>1</td>\n",
              "      <td>3</td>\n",
              "      <td>1</td>\n",
              "      <td>5</td>\n",
              "      <td>359</td>\n",
              "      <td>1613</td>\n",
              "      <td>5</td>\n",
              "      <td>359</td>\n",
              "      <td>333</td>\n",
              "      <td>5078</td>\n",
              "      <td>28</td>\n",
              "      <td>148</td>\n",
              "      <td>17</td>\n",
              "      <td>1</td>\n",
              "      <td>1</td>\n",
              "      <td>6</td>\n",
              "      <td>3</td>\n",
              "      <td>2</td>\n",
              "    </tr>\n",
              "    <tr>\n",
              "      <th>3</th>\n",
              "      <td>125434</td>\n",
              "      <td>2</td>\n",
              "      <td>1</td>\n",
              "      <td>1</td>\n",
              "      <td>1</td>\n",
              "      <td>6</td>\n",
              "      <td>542</td>\n",
              "      <td>957</td>\n",
              "      <td>6</td>\n",
              "      <td>534</td>\n",
              "      <td>172</td>\n",
              "      <td>2758</td>\n",
              "      <td>5</td>\n",
              "      <td>5</td>\n",
              "      <td>1</td>\n",
              "      <td>1</td>\n",
              "      <td>1</td>\n",
              "      <td>2</td>\n",
              "      <td>2</td>\n",
              "      <td>2</td>\n",
              "    </tr>\n",
              "    <tr>\n",
              "      <th>4</th>\n",
              "      <td>28956</td>\n",
              "      <td>2</td>\n",
              "      <td>1</td>\n",
              "      <td>3</td>\n",
              "      <td>3</td>\n",
              "      <td>5</td>\n",
              "      <td>157</td>\n",
              "      <td>381</td>\n",
              "      <td>5</td>\n",
              "      <td>155</td>\n",
              "      <td>150</td>\n",
              "      <td>747</td>\n",
              "      <td>3</td>\n",
              "      <td>9</td>\n",
              "      <td>1</td>\n",
              "      <td>1</td>\n",
              "      <td>1</td>\n",
              "      <td>3</td>\n",
              "      <td>5</td>\n",
              "      <td>1</td>\n",
              "    </tr>\n",
              "  </tbody>\n",
              "</table>\n",
              "</div>"
            ],
            "text/plain": [
              "   Unnamed: 0  Gender  TypeofDisability  ...  agegroup  EducationLevel  placed\n",
              "0       86994       1                 1  ...         6               3       1\n",
              "1      118637       2                 1  ...         2               3       1\n",
              "2      130745       2                 1  ...         6               3       2\n",
              "3      125434       2                 1  ...         2               2       2\n",
              "4       28956       2                 1  ...         3               5       1\n",
              "\n",
              "[5 rows x 20 columns]"
            ]
          },
          "metadata": {
            "tags": []
          },
          "execution_count": 9
        }
      ]
    },
    {
      "cell_type": "code",
      "metadata": {
        "id": "OrAkYpULawYF",
        "outputId": "57001eef-a1bf-4b59-dbaf-355fbf462934",
        "colab": {
          "base_uri": "https://localhost:8080/"
        }
      },
      "source": [
        "train_x = train_df[['Gender', 'TypeofDisability', 'castecategory', 'Religion', 'Candidate State', 'Candidate District', 'PartnerName', 'TC State','TC District','TC Constituency','TC Name','SectorName',\t'JobRole','TotalCandidatesinBatch','Result','Certified','agegroup','EducationLevel']]\n",
        "train_y = train_df[['placed']]\n",
        "\n",
        "train_x = train_x[:int(0.8*len(train_x))]\n",
        "train_y = train_y[:int(0.8*len(train_y))]\n",
        "\n",
        "test_x = train_x[int(0.8*len(train_x)):]\n",
        "test_y = train_y[int(0.8*len(train_y)):]\n",
        "print(train_x.shape, train_y.shape)\n",
        "print(test_x.shape, test_y.shape)"
      ],
      "execution_count": 10,
      "outputs": [
        {
          "output_type": "stream",
          "text": [
            "(102000, 18) (102000, 1)\n",
            "(20400, 18) (20400, 1)\n"
          ],
          "name": "stdout"
        }
      ]
    },
    {
      "cell_type": "code",
      "metadata": {
        "id": "UkTAw3dhbkWG",
        "outputId": "83903178-2050-425e-f040-2fbf35afc0f0",
        "colab": {
          "base_uri": "https://localhost:8080/"
        }
      },
      "source": [
        "from sklearn.ensemble import GradientBoostingClassifier\n",
        "from sklearn.multioutput import MultiOutputClassifier\n",
        "\n",
        "regr = MultiOutputClassifier(\n",
        "    GradientBoostingClassifier(\n",
        "        learning_rate=0.1,\n",
        "        n_estimators=500,\n",
        "        max_depth=18,\n",
        "        verbose=1\n",
        "      )\n",
        "    )\n",
        "regr.fit(train_x, train_y)\n",
        "pred_y = regr.predict(test_x)\n",
        "print(pred_y.shape)"
      ],
      "execution_count": 12,
      "outputs": [
        {
          "output_type": "stream",
          "text": [
            "      Iter       Train Loss   Remaining Time \n",
            "         1           1.2733           14.18m\n",
            "         2           1.1863           14.58m\n",
            "         3           1.1122           14.92m\n",
            "         4           1.0484           15.24m\n",
            "         5           0.9944           15.44m\n",
            "         6           0.9469           15.57m\n",
            "         7           0.9031           15.75m\n",
            "         8           0.8619           15.91m\n",
            "         9           0.8247           16.09m\n",
            "        10           0.7937           16.19m\n",
            "        20           0.5727           16.69m\n",
            "        30           0.4598           16.46m\n",
            "        40           0.3829           16.19m\n",
            "        50           0.3322           15.65m\n",
            "        60           0.2936           15.10m\n",
            "        70           0.2581           14.64m\n",
            "        80           0.2315           14.17m\n",
            "        90           0.2035           13.84m\n",
            "       100           0.1819           13.51m\n",
            "       200           0.0998            9.99m\n",
            "       300           0.0867            6.53m\n",
            "       400           0.0851            3.04m\n",
            "       500           0.0849            0.00s\n",
            "(20400, 1)\n"
          ],
          "name": "stdout"
        }
      ]
    },
    {
      "cell_type": "code",
      "metadata": {
        "id": "G_SQt8OebpQa",
        "outputId": "ac1d3c00-20b8-4b72-a7b1-6662dbcc10f4",
        "colab": {
          "base_uri": "https://localhost:8080/"
        }
      },
      "source": [
        "cnt = 0\n",
        "for ind, val in enumerate(test_y['placed']):\n",
        "  if(test_y['placed'].values[ind] == pred_y[ind]):\n",
        "    cnt+=1\n",
        "\n",
        "print(f\"Train acc : {(cnt/len(test_y)*100)} %\")"
      ],
      "execution_count": 13,
      "outputs": [
        {
          "output_type": "stream",
          "text": [
            "Train acc : 97.42647058823529 %\n"
          ],
          "name": "stdout"
        }
      ]
    },
    {
      "cell_type": "code",
      "metadata": {
        "id": "cOWg4vEybuFN",
        "outputId": "8cfefdd8-10c6-4ef9-f114-8ca19f1e808a",
        "colab": {
          "base_uri": "https://localhost:8080/"
        }
      },
      "source": [
        "# Create submission using 'testresult.csv'\n",
        "submission_df = pd.read_csv('testresult.csv') \n",
        "submission_df_x = submission_df[['Gender', 'TypeofDisability', 'castecategory', 'Religion', 'Candidate State', 'Candidate District', 'PartnerName', 'TC State','TC District','TC Constituency','TC Name','SectorName',\t'JobRole','TotalCandidatesinBatch','Result','Certified','agegroup','EducationLevel']]\n",
        "\n",
        "submission_pred_y = regr.predict(submission_df_x)\n",
        "submission = [2 if x >= thres else 1 for x in submission_pred_y] # Quantization\n",
        "\n",
        "submission_df['placed'] = submission\n",
        "print(submission_df.head())\n",
        "submission_df.to_csv('testresult-submission.csv', index=False)  "
      ],
      "execution_count": 14,
      "outputs": [
        {
          "output_type": "stream",
          "text": [
            "   Unnamed: 0  Gender  TypeofDisability  ...  agegroup  EducationLevel  placed\n",
            "0      129459       2                 1  ...         4               5       2\n",
            "1      134017       2                 1  ...         2               3       2\n",
            "2       86522       2                 1  ...         2               2       2\n",
            "3      138465       2                 1  ...         2               2       1\n",
            "4      143904       1                 1  ...         3               2       1\n",
            "\n",
            "[5 rows x 20 columns]\n"
          ],
          "name": "stdout"
        }
      ]
    }
  ]
}