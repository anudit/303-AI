{
 "cells": [
  {
   "cell_type": "markdown",
   "metadata": {
    "id": "X3FobpTFCnjg"
   },
   "source": [
    "# Wheat varieties prediction using ANN\n",
    "## Objective: To implement artificial neural network from scratch\n",
    "\n",
    "\n",
    "\n",
    "## Artificial neural network\n",
    "\n",
    "Artificial neural networks are relatively crude electronic networks of neurons based on the neural structure of the brain. They process records one at a time, and learn by comparing their classification of the record (i.e., largely arbitrary) with the known actual classification of the record. The errors from the initial classification of the first record is fed back into the network, and used to modify the networks algorithm for further iterations.\n",
    "\n",
    "A neuron in an artificial neural network is\n",
    "\n",
    "1. A set of input values (xi) and associated weights (wi).\n",
    "\n",
    "2. A function (g) that sums the weights and maps the results to an output (y).\n",
    "\n",
    "### Parameters\n",
    "We can choose the dimensionality (the number of nodes) of the hidden layer. The more nodes we put into the hidden layer the more complex functions we will be able fit. But higher dimensionality comes at a cost. First, more computation is required to make predictions and learn the network parameters. A bigger number of parameters also means we become more prone to overfitting our data.\n",
    "How to choose the size of the hidden layer? While there are some general guidelines and recommendations, it always depends on your specific problem and is more of an art than a science. We will play with the number of nodes in the hidden layer later on and see how it affects our output.\n",
    "\n",
    "\n",
    "\n",
    "\n",
    "\n",
    "\n"
   ]
  },
  {
   "cell_type": "markdown",
   "metadata": {
    "id": "RlhZ_25gDmTR"
   },
   "source": [
    "###Activation function\n",
    "We also need to pick an *activation function* for our hidden layer. The activation function transforms the inputs of the layer into its outputs. A nonlinear activation function is what allows us to fit nonlinear hypotheses. Common chocies for activation functions are [tanh](https://reference.wolfram.com/language/ref/Tanh.html), the [sigmoid function](https://en.wikipedia.org/wiki/Sigmoid_function), or [ReLUs](https://en.wikipedia.org/wiki/Rectifier_(neural_networks). \n",
    "\n",
    "\n",
    "Learning the parameters for our network means finding parameters ($W_1, b_1, W_2, b_2$) that minimize the error on our training data. But how do we define the error? We call the function that measures our error the *loss function*. A common choice with the softmax output is the [cross-entropy loss](https://en.wikipedia.org/wiki/Cross_entropy#Cross-entropy_error_function_and_logistic_regression). If we have $N$ training examples and $C$ classes then the loss for our prediction $\\hat{y}$ with respect to the true labels $y$ is given by:\n",
    "\n",
    "$$\n",
    "\\begin{aligned}\n",
    "L(y,\\hat{y}) = - \\frac{1}{N} \\sum_{n \\in N} \\sum_{i \\in C} y_{n,i} \\log\\hat{y}_{n,i}\n",
    "\\end{aligned}\n",
    "$$\n",
    "\n",
    "Remember that our goal is to find the parameters that minimize our loss function. We can use [gradient descent](http://cs231n.github.io/optimization-1/) to find its minimum. I will implement the most vanilla version of gradient descent, also called batch gradient descent with a fixed learning rate. Variations such as SGD (stochastic gradient descent) or minibatch gradient descent typically perform better in practice. So if you are serious you'll want to use one of these, and ideally you would also [decay the learning rate over time](http://cs231n.github.io/neural-networks-3/#anneal).\n",
    "\n",
    "### Gradient descent\n",
    "As an input, gradient descent needs the gradients (vector of derivatives) of the loss function with respect to our parameters: $\\frac{\\partial{L}}{\\partial{W_1}}$, $\\frac{\\partial{L}}{\\partial{b_1}}$, $\\frac{\\partial{L}}{\\partial{W_2}}$, $\\frac{\\partial{L}}{\\partial{b_2}}$. To calculate these gradients we use the famous *backpropagation algorithm*, which is a way to efficiently calculate the gradients starting from the output. I won't go into detail how backpropagation works, but there are many excellent explanations ([here](http://colah.github.io/posts/2015-08-Backprop/) or [here](http://cs231n.github.io/optimization-2/)) floating around the web.\n",
    "\n",
    "### Backpropagation formula\n",
    "Applying the backpropagation formula we find the following:\n",
    "\n",
    "$$\n",
    "\\begin{aligned}\n",
    "& \\delta_3 = \\hat{y} - y \\\\\n",
    "& \\delta_2 = (1 - \\tanh^2z_1) \\circ \\delta_3W_2^T \\\\\n",
    "& \\frac{\\partial{L}}{\\partial{W_2}} = a_1^T \\delta_3  \\\\\n",
    "& \\frac{\\partial{L}}{\\partial{b_2}} = \\delta_3\\\\\n",
    "& \\frac{\\partial{L}}{\\partial{W_1}} = x^T \\delta_2\\\\\n",
    "& \\frac{\\partial{L}}{\\partial{b_1}} = \\delta_2 \\\\\n",
    "\\end{aligned}\n",
    "$$"
   ]
  },
  {
   "cell_type": "markdown",
   "metadata": {
    "id": "PWJYEzB_Dh8e"
   },
   "source": [
    "## Dataset\n",
    "Measurements of geometrical properties of kernels belonging to three different varieties of wheat. A soft X-ray technique and GRAINS package were used to construct all seven, real-valued attributes.\n",
    "\n",
    "## Attributes\n",
    "1.\tarea A,\n",
    "2.\tperimeter P,\n",
    "3.\tcompactness C = 4*pi*A/P^2,\n",
    "4.\tlength of kernel,\n",
    "5.\twidth of kernel,\n",
    "6.\tasymmetry coefficient\n",
    "7.\tlength of kernel groove.\n",
    "\n",
    "## Target Class\n",
    "Varieties of wheat: Kama, Rosa and Canadian.\n",
    "\n",
    "## Source: https://www.kaggle.com/rwzhang/seeds-dataset\n",
    "\n"
   ]
  },
  {
   "cell_type": "markdown",
   "metadata": {
    "id": "ZN_gXZRbDbUO"
   },
   "source": [
    "## Task 1: Implement Artificial Neural Networks from Scratch\n",
    "1.\tObtain the seeds dataset\n",
    "2.\tApply pre-processing techniques (if any)\n",
    "3.\tDivide dataset into training (70%) and testing (30%) set, respectively.\n",
    "4.\tImplement Artificial Neural Networks from Scratch\n",
    "5.\tTrain your neural model from scratch\n",
    "6.\tEvaluate the training and testing accuracy of your own model\n",
    "\n",
    "## Task 2: Implement SKLEARN’s Artificial Neural Networks\n",
    "1.\tObtain the seeds dataset\n",
    "2.\tApply pre-processing techniques (if any)\n",
    "3.\tDivide dataset into training (70%) and testing (30%) set, respectively.\n",
    "4.\tImplement Artificial Neural Networks using SKLEARN’s library\n",
    "5.\tTrain SKLEARN’s neural model \n",
    "6.\tEvaluate the training and testing accuracy of SKLEARN’s model\n",
    "\n",
    "# Task 3: Play with hyper-parameters\n",
    "1.\tUse SKLEARN’s neural model\n",
    "2.\tEvaluate the impact of various hyper-parameters of neural networks\n",
    "3.\tPlot the results\n",
    "4.\tConclude the experiments by showing the impact of hyper-parameters on neural network"
   ]
  },
  {
   "cell_type": "markdown",
   "metadata": {
    "id": "T9iUOR3hDc-0"
   },
   "source": [
    "###Helpful links: \n",
    "https://machinelearningmastery.com/implement-backpropagation-algorithm-scratch-python/\n",
    "https://medium.com/towards-artificial-intelligence/building-neural-networks-from-scratch-with-python-code-and-math-in-detail-i-536fae5d7bbf\n",
    "https://stackabuse.com/creating-a-neural-network-from-scratch-in-python-multi-class-classification/\n",
    "http://www.wildml.com/2015/09/implementing-a-neural-network-from-scratch/"
   ]
  },
  {
   "cell_type": "markdown",
   "metadata": {
    "id": "u-JpzeOsD6jg"
   },
   "source": [
    "# Additonal work (not considered in evaluation)\n",
    "Instead of batch gradient descent, use minibatch gradient descent ([more info](http://cs231n.github.io/optimization-1/#gd))\n",
    "\n",
    "Use various activation functions"
   ]
  },
  {
   "cell_type": "markdown",
   "metadata": {
    "id": "d9aMK8ze6bUY"
   },
   "source": [
    "##Task 1: Implement Artificial Neural Networks from Scratch\n"
   ]
  },
  {
   "cell_type": "code",
   "execution_count": 1,
   "metadata": {
    "ExecuteTime": {
     "end_time": "2020-11-02T09:26:26.264333Z",
     "start_time": "2020-11-02T09:26:24.535366Z"
    },
    "id": "Ti-tdq2M600q"
   },
   "outputs": [],
   "source": [
    "# Load the libraries\n",
    "import pandas as pd\n",
    "import numpy as np\n",
    "from sklearn.model_selection import train_test_split\n",
    "from sklearn.preprocessing import MinMaxScaler\n",
    "from sklearn.metrics import accuracy_score\n",
    "import random\n",
    "from sklearn.neural_network import MLPClassifier\n",
    "import warnings\n",
    "warnings.filterwarnings(\"ignore\")"
   ]
  },
  {
   "cell_type": "code",
   "execution_count": 2,
   "metadata": {
    "ExecuteTime": {
     "end_time": "2020-11-02T09:26:26.289225Z",
     "start_time": "2020-11-02T09:26:26.275279Z"
    }
   },
   "outputs": [
    {
     "data": {
      "text/plain": [
       "['area A',\n",
       " 'perimeter P',\n",
       " 'compactness C = 4*pi*A/P^2',\n",
       " 'length of kernel',\n",
       " 'width of kernel',\n",
       " 'asymmetry coefficien',\n",
       " 'length of kernel groove',\n",
       " 'varieties of wheat']"
      ]
     },
     "execution_count": 2,
     "metadata": {},
     "output_type": "execute_result"
    }
   ],
   "source": [
    "cols=\"\"\"\n",
    "1.\tarea A,\n",
    "2.\tperimeter P,\n",
    "3.\tcompactness C = 4*pi*A/P^2,\n",
    "4.\tlength of kernel,\n",
    "5.\twidth of kernel,\n",
    "6.\tasymmetry coefficient\n",
    "7.\tlength of kernel groove.\n",
    "\"\"\"\n",
    "cols=cols.split('\\n')\n",
    "for i in range(len(cols)):\n",
    "    cols[i]=cols[i][3:-1]\n",
    "cols=cols[1:-1]\n",
    "cols.append('varieties of wheat')\n",
    "cols"
   ]
  },
  {
   "cell_type": "code",
   "execution_count": 3,
   "metadata": {
    "ExecuteTime": {
     "end_time": "2020-11-02T09:26:26.324134Z",
     "start_time": "2020-11-02T09:26:26.298201Z"
    },
    "id": "GHFWQz1R6-8x"
   },
   "outputs": [
    {
     "data": {
      "text/html": [
       "<div>\n",
       "<style scoped>\n",
       "    .dataframe tbody tr th:only-of-type {\n",
       "        vertical-align: middle;\n",
       "    }\n",
       "\n",
       "    .dataframe tbody tr th {\n",
       "        vertical-align: top;\n",
       "    }\n",
       "\n",
       "    .dataframe thead th {\n",
       "        text-align: right;\n",
       "    }\n",
       "</style>\n",
       "<table border=\"1\" class=\"dataframe\">\n",
       "  <thead>\n",
       "    <tr style=\"text-align: right;\">\n",
       "      <th></th>\n",
       "      <th>area A</th>\n",
       "      <th>perimeter P</th>\n",
       "      <th>compactness C = 4*pi*A/P^2</th>\n",
       "      <th>length of kernel</th>\n",
       "      <th>width of kernel</th>\n",
       "      <th>asymmetry coefficien</th>\n",
       "      <th>length of kernel groove</th>\n",
       "      <th>varieties of wheat</th>\n",
       "    </tr>\n",
       "  </thead>\n",
       "  <tbody>\n",
       "    <tr>\n",
       "      <th>0</th>\n",
       "      <td>14.88</td>\n",
       "      <td>14.57</td>\n",
       "      <td>0.8811</td>\n",
       "      <td>5.554</td>\n",
       "      <td>3.333</td>\n",
       "      <td>1.018</td>\n",
       "      <td>4.956</td>\n",
       "      <td>1</td>\n",
       "    </tr>\n",
       "    <tr>\n",
       "      <th>1</th>\n",
       "      <td>14.29</td>\n",
       "      <td>14.09</td>\n",
       "      <td>0.9050</td>\n",
       "      <td>5.291</td>\n",
       "      <td>3.337</td>\n",
       "      <td>2.699</td>\n",
       "      <td>4.825</td>\n",
       "      <td>1</td>\n",
       "    </tr>\n",
       "    <tr>\n",
       "      <th>2</th>\n",
       "      <td>13.84</td>\n",
       "      <td>13.94</td>\n",
       "      <td>0.8955</td>\n",
       "      <td>5.324</td>\n",
       "      <td>3.379</td>\n",
       "      <td>2.259</td>\n",
       "      <td>4.805</td>\n",
       "      <td>1</td>\n",
       "    </tr>\n",
       "    <tr>\n",
       "      <th>3</th>\n",
       "      <td>16.14</td>\n",
       "      <td>14.99</td>\n",
       "      <td>0.9034</td>\n",
       "      <td>5.658</td>\n",
       "      <td>3.562</td>\n",
       "      <td>1.355</td>\n",
       "      <td>5.175</td>\n",
       "      <td>1</td>\n",
       "    </tr>\n",
       "    <tr>\n",
       "      <th>4</th>\n",
       "      <td>14.38</td>\n",
       "      <td>14.21</td>\n",
       "      <td>0.8951</td>\n",
       "      <td>5.386</td>\n",
       "      <td>3.312</td>\n",
       "      <td>2.462</td>\n",
       "      <td>4.956</td>\n",
       "      <td>1</td>\n",
       "    </tr>\n",
       "    <tr>\n",
       "      <th>...</th>\n",
       "      <td>...</td>\n",
       "      <td>...</td>\n",
       "      <td>...</td>\n",
       "      <td>...</td>\n",
       "      <td>...</td>\n",
       "      <td>...</td>\n",
       "      <td>...</td>\n",
       "      <td>...</td>\n",
       "    </tr>\n",
       "    <tr>\n",
       "      <th>204</th>\n",
       "      <td>12.19</td>\n",
       "      <td>13.20</td>\n",
       "      <td>0.8783</td>\n",
       "      <td>5.137</td>\n",
       "      <td>2.981</td>\n",
       "      <td>3.631</td>\n",
       "      <td>4.870</td>\n",
       "      <td>3</td>\n",
       "    </tr>\n",
       "    <tr>\n",
       "      <th>205</th>\n",
       "      <td>11.23</td>\n",
       "      <td>12.88</td>\n",
       "      <td>0.8511</td>\n",
       "      <td>5.140</td>\n",
       "      <td>2.795</td>\n",
       "      <td>4.325</td>\n",
       "      <td>5.003</td>\n",
       "      <td>3</td>\n",
       "    </tr>\n",
       "    <tr>\n",
       "      <th>206</th>\n",
       "      <td>13.20</td>\n",
       "      <td>13.66</td>\n",
       "      <td>0.8883</td>\n",
       "      <td>5.236</td>\n",
       "      <td>3.232</td>\n",
       "      <td>8.315</td>\n",
       "      <td>5.056</td>\n",
       "      <td>3</td>\n",
       "    </tr>\n",
       "    <tr>\n",
       "      <th>207</th>\n",
       "      <td>11.84</td>\n",
       "      <td>13.21</td>\n",
       "      <td>0.8521</td>\n",
       "      <td>5.175</td>\n",
       "      <td>2.836</td>\n",
       "      <td>3.598</td>\n",
       "      <td>5.044</td>\n",
       "      <td>3</td>\n",
       "    </tr>\n",
       "    <tr>\n",
       "      <th>208</th>\n",
       "      <td>12.30</td>\n",
       "      <td>13.34</td>\n",
       "      <td>0.8684</td>\n",
       "      <td>5.243</td>\n",
       "      <td>2.974</td>\n",
       "      <td>5.637</td>\n",
       "      <td>5.063</td>\n",
       "      <td>3</td>\n",
       "    </tr>\n",
       "  </tbody>\n",
       "</table>\n",
       "<p>209 rows × 8 columns</p>\n",
       "</div>"
      ],
      "text/plain": [
       "     area A  perimeter P  compactness C = 4*pi*A/P^2  length of kernel  \\\n",
       "0     14.88        14.57                      0.8811             5.554   \n",
       "1     14.29        14.09                      0.9050             5.291   \n",
       "2     13.84        13.94                      0.8955             5.324   \n",
       "3     16.14        14.99                      0.9034             5.658   \n",
       "4     14.38        14.21                      0.8951             5.386   \n",
       "..      ...          ...                         ...               ...   \n",
       "204   12.19        13.20                      0.8783             5.137   \n",
       "205   11.23        12.88                      0.8511             5.140   \n",
       "206   13.20        13.66                      0.8883             5.236   \n",
       "207   11.84        13.21                      0.8521             5.175   \n",
       "208   12.30        13.34                      0.8684             5.243   \n",
       "\n",
       "     width of kernel  asymmetry coefficien  length of kernel groove  \\\n",
       "0              3.333                 1.018                    4.956   \n",
       "1              3.337                 2.699                    4.825   \n",
       "2              3.379                 2.259                    4.805   \n",
       "3              3.562                 1.355                    5.175   \n",
       "4              3.312                 2.462                    4.956   \n",
       "..               ...                   ...                      ...   \n",
       "204            2.981                 3.631                    4.870   \n",
       "205            2.795                 4.325                    5.003   \n",
       "206            3.232                 8.315                    5.056   \n",
       "207            2.836                 3.598                    5.044   \n",
       "208            2.974                 5.637                    5.063   \n",
       "\n",
       "     varieties of wheat  \n",
       "0                     1  \n",
       "1                     1  \n",
       "2                     1  \n",
       "3                     1  \n",
       "4                     1  \n",
       "..                  ...  \n",
       "204                   3  \n",
       "205                   3  \n",
       "206                   3  \n",
       "207                   3  \n",
       "208                   3  \n",
       "\n",
       "[209 rows x 8 columns]"
      ]
     },
     "execution_count": 3,
     "metadata": {},
     "output_type": "execute_result"
    }
   ],
   "source": [
    "# Load the dataset \n",
    "df=pd.read_table(\"seeds_dataset.txt\")\n",
    "#df.columns=cols\n",
    "df.columns=cols\n",
    "df"
   ]
  },
  {
   "cell_type": "code",
   "execution_count": 4,
   "metadata": {
    "ExecuteTime": {
     "end_time": "2020-11-02T09:26:27.078062Z",
     "start_time": "2020-11-02T09:26:27.047144Z"
    },
    "id": "XxEfVyAE7ASj"
   },
   "outputs": [
    {
     "data": {
      "text/html": [
       "<div>\n",
       "<style scoped>\n",
       "    .dataframe tbody tr th:only-of-type {\n",
       "        vertical-align: middle;\n",
       "    }\n",
       "\n",
       "    .dataframe tbody tr th {\n",
       "        vertical-align: top;\n",
       "    }\n",
       "\n",
       "    .dataframe thead th {\n",
       "        text-align: right;\n",
       "    }\n",
       "</style>\n",
       "<table border=\"1\" class=\"dataframe\">\n",
       "  <thead>\n",
       "    <tr style=\"text-align: right;\">\n",
       "      <th></th>\n",
       "      <th>area A</th>\n",
       "      <th>perimeter P</th>\n",
       "      <th>compactness C = 4*pi*A/P^2</th>\n",
       "      <th>length of kernel</th>\n",
       "      <th>width of kernel</th>\n",
       "      <th>asymmetry coefficien</th>\n",
       "      <th>length of kernel groove</th>\n",
       "      <th>varieties of wheat</th>\n",
       "    </tr>\n",
       "  </thead>\n",
       "  <tbody>\n",
       "    <tr>\n",
       "      <th>0</th>\n",
       "      <td>0.405099</td>\n",
       "      <td>0.446281</td>\n",
       "      <td>0.662432</td>\n",
       "      <td>0.368806</td>\n",
       "      <td>0.501069</td>\n",
       "      <td>0.032883</td>\n",
       "      <td>0.215165</td>\n",
       "      <td>1</td>\n",
       "    </tr>\n",
       "    <tr>\n",
       "      <th>1</th>\n",
       "      <td>0.349386</td>\n",
       "      <td>0.347107</td>\n",
       "      <td>0.879310</td>\n",
       "      <td>0.220721</td>\n",
       "      <td>0.503920</td>\n",
       "      <td>0.251453</td>\n",
       "      <td>0.150665</td>\n",
       "      <td>1</td>\n",
       "    </tr>\n",
       "    <tr>\n",
       "      <th>2</th>\n",
       "      <td>0.306893</td>\n",
       "      <td>0.316116</td>\n",
       "      <td>0.793103</td>\n",
       "      <td>0.239302</td>\n",
       "      <td>0.533856</td>\n",
       "      <td>0.194243</td>\n",
       "      <td>0.140817</td>\n",
       "      <td>1</td>\n",
       "    </tr>\n",
       "    <tr>\n",
       "      <th>3</th>\n",
       "      <td>0.524079</td>\n",
       "      <td>0.533058</td>\n",
       "      <td>0.864791</td>\n",
       "      <td>0.427365</td>\n",
       "      <td>0.664291</td>\n",
       "      <td>0.076701</td>\n",
       "      <td>0.322994</td>\n",
       "      <td>1</td>\n",
       "    </tr>\n",
       "    <tr>\n",
       "      <th>4</th>\n",
       "      <td>0.357885</td>\n",
       "      <td>0.371901</td>\n",
       "      <td>0.789474</td>\n",
       "      <td>0.274212</td>\n",
       "      <td>0.486101</td>\n",
       "      <td>0.220637</td>\n",
       "      <td>0.215165</td>\n",
       "      <td>1</td>\n",
       "    </tr>\n",
       "    <tr>\n",
       "      <th>...</th>\n",
       "      <td>...</td>\n",
       "      <td>...</td>\n",
       "      <td>...</td>\n",
       "      <td>...</td>\n",
       "      <td>...</td>\n",
       "      <td>...</td>\n",
       "      <td>...</td>\n",
       "      <td>...</td>\n",
       "    </tr>\n",
       "    <tr>\n",
       "      <th>204</th>\n",
       "      <td>0.151086</td>\n",
       "      <td>0.163223</td>\n",
       "      <td>0.637024</td>\n",
       "      <td>0.134009</td>\n",
       "      <td>0.250178</td>\n",
       "      <td>0.372635</td>\n",
       "      <td>0.172821</td>\n",
       "      <td>3</td>\n",
       "    </tr>\n",
       "    <tr>\n",
       "      <th>205</th>\n",
       "      <td>0.060434</td>\n",
       "      <td>0.097107</td>\n",
       "      <td>0.390200</td>\n",
       "      <td>0.135698</td>\n",
       "      <td>0.117605</td>\n",
       "      <td>0.462872</td>\n",
       "      <td>0.238306</td>\n",
       "      <td>3</td>\n",
       "    </tr>\n",
       "    <tr>\n",
       "      <th>206</th>\n",
       "      <td>0.246459</td>\n",
       "      <td>0.258264</td>\n",
       "      <td>0.727768</td>\n",
       "      <td>0.189752</td>\n",
       "      <td>0.429081</td>\n",
       "      <td>0.981667</td>\n",
       "      <td>0.264402</td>\n",
       "      <td>3</td>\n",
       "    </tr>\n",
       "    <tr>\n",
       "      <th>207</th>\n",
       "      <td>0.118036</td>\n",
       "      <td>0.165289</td>\n",
       "      <td>0.399274</td>\n",
       "      <td>0.155405</td>\n",
       "      <td>0.146828</td>\n",
       "      <td>0.368344</td>\n",
       "      <td>0.258493</td>\n",
       "      <td>3</td>\n",
       "    </tr>\n",
       "    <tr>\n",
       "      <th>208</th>\n",
       "      <td>0.161473</td>\n",
       "      <td>0.192149</td>\n",
       "      <td>0.547187</td>\n",
       "      <td>0.193694</td>\n",
       "      <td>0.245189</td>\n",
       "      <td>0.633463</td>\n",
       "      <td>0.267848</td>\n",
       "      <td>3</td>\n",
       "    </tr>\n",
       "  </tbody>\n",
       "</table>\n",
       "<p>209 rows × 8 columns</p>\n",
       "</div>"
      ],
      "text/plain": [
       "       area A  perimeter P  compactness C = 4*pi*A/P^2  length of kernel  \\\n",
       "0    0.405099     0.446281                    0.662432          0.368806   \n",
       "1    0.349386     0.347107                    0.879310          0.220721   \n",
       "2    0.306893     0.316116                    0.793103          0.239302   \n",
       "3    0.524079     0.533058                    0.864791          0.427365   \n",
       "4    0.357885     0.371901                    0.789474          0.274212   \n",
       "..        ...          ...                         ...               ...   \n",
       "204  0.151086     0.163223                    0.637024          0.134009   \n",
       "205  0.060434     0.097107                    0.390200          0.135698   \n",
       "206  0.246459     0.258264                    0.727768          0.189752   \n",
       "207  0.118036     0.165289                    0.399274          0.155405   \n",
       "208  0.161473     0.192149                    0.547187          0.193694   \n",
       "\n",
       "     width of kernel  asymmetry coefficien  length of kernel groove  \\\n",
       "0           0.501069              0.032883                 0.215165   \n",
       "1           0.503920              0.251453                 0.150665   \n",
       "2           0.533856              0.194243                 0.140817   \n",
       "3           0.664291              0.076701                 0.322994   \n",
       "4           0.486101              0.220637                 0.215165   \n",
       "..               ...                   ...                      ...   \n",
       "204         0.250178              0.372635                 0.172821   \n",
       "205         0.117605              0.462872                 0.238306   \n",
       "206         0.429081              0.981667                 0.264402   \n",
       "207         0.146828              0.368344                 0.258493   \n",
       "208         0.245189              0.633463                 0.267848   \n",
       "\n",
       "     varieties of wheat  \n",
       "0                     1  \n",
       "1                     1  \n",
       "2                     1  \n",
       "3                     1  \n",
       "4                     1  \n",
       "..                  ...  \n",
       "204                   3  \n",
       "205                   3  \n",
       "206                   3  \n",
       "207                   3  \n",
       "208                   3  \n",
       "\n",
       "[209 rows x 8 columns]"
      ]
     },
     "execution_count": 4,
     "metadata": {},
     "output_type": "execute_result"
    }
   ],
   "source": [
    "# Preprocessing\n",
    "# Encoding categorical variables (if any)\n",
    "# Feature Scaling\n",
    "# Filling missing values (if any)\n",
    "scaler=MinMaxScaler()\n",
    "df.iloc[:,0:7]=scaler.fit_transform(df.iloc[:,0:7])\n",
    "df"
   ]
  },
  {
   "cell_type": "code",
   "execution_count": 5,
   "metadata": {
    "ExecuteTime": {
     "end_time": "2020-11-02T09:26:28.506434Z",
     "start_time": "2020-11-02T09:26:28.500415Z"
    }
   },
   "outputs": [],
   "source": [
    "X=np.array(df.drop('varieties of wheat',axis=1))\n",
    "y=np.array(df['varieties of wheat'])-1"
   ]
  },
  {
   "cell_type": "code",
   "execution_count": 6,
   "metadata": {
    "ExecuteTime": {
     "end_time": "2020-11-02T09:26:28.930447Z",
     "start_time": "2020-11-02T09:26:28.925454Z"
    },
    "id": "w9YAXm8H7C9L"
   },
   "outputs": [],
   "source": [
    "# Divide the dataset to training (70 %) and testing set (30 %)\n",
    "X_train, X_test, y_train, y_test = train_test_split(X, y, test_size=0.3, random_state=42)"
   ]
  },
  {
   "cell_type": "code",
   "execution_count": 7,
   "metadata": {
    "ExecuteTime": {
     "end_time": "2020-11-02T09:26:29.932255Z",
     "start_time": "2020-11-02T09:26:29.927268Z"
    },
    "id": "i_KayhYF75UK"
   },
   "outputs": [],
   "source": [
    "# Define initial parameters of ANN and gradient descent:\n",
    "# input layer dimensionality, output layer dimensionality, learning rate (epsilon) for gradient descent and regularization strength (lambda)\n",
    "inpdim=X.shape[1]\n",
    "outdim=len(pd.Series(y).unique())\n",
    "hiddendim=7\n",
    "lr=0.01\n",
    "lambd=0.01"
   ]
  },
  {
   "cell_type": "code",
   "execution_count": 158,
   "metadata": {
    "ExecuteTime": {
     "end_time": "2020-11-02T08:50:08.575654Z",
     "start_time": "2020-11-02T08:50:08.560041Z"
    },
    "id": "necwumMA8nfX"
   },
   "outputs": [],
   "source": [
    "# Define total loss function\n",
    "W1 = np.random.randn(inpdim, hiddendim) / np.sqrt(inpdim)\n",
    "b1 = np.zeros((1, hiddendim))\n",
    "W2 = np.random.randn(hiddendim, outdim) / np.sqrt(hiddendim)\n",
    "b2 = np.zeros((1, outdim))\n",
    "params={'W1':W1,'b1':b1,'W2':W2,'b2':b2}\n",
    "def relu(x):\n",
    "    return x * (x > 0)\n",
    "def loss(X,y,params):\n",
    "    num_examples=len(X)\n",
    "    W1, b1, W2, b2 = params['W1'], params['b1'], params['W2'], params['b2']\n",
    "    z1 = X.dot(W1) + b1\n",
    "    a1 = relu(z1)\n",
    "    z2 = a1.dot(W2) + b2\n",
    "    exp_scores = np.exp(z2)\n",
    "    probs = exp_scores / np.sum(exp_scores, axis=1, keepdims=True)\n",
    "    correct_logprobs = -np.log(probs[range(num_examples), y])\n",
    "    data_loss = np.sum(correct_logprobs)\n",
    "    data_loss += lambd / 2 * (np.sum(np.square(W1)) + np.sum(np.square(W2)))\n",
    "    return 1. / num_examples * data_loss\n",
    "    "
   ]
  },
  {
   "cell_type": "code",
   "execution_count": 159,
   "metadata": {
    "ExecuteTime": {
     "end_time": "2020-11-02T08:50:09.906920Z",
     "start_time": "2020-11-02T08:50:09.891311Z"
    },
    "id": "XUKcHH_M8r92"
   },
   "outputs": [],
   "source": [
    "# Prediction function using activation function\n",
    "def predict(params, x):\n",
    "    W1, b1, W2, b2 = params['W1'], params['b1'], params['W2'], params['b2']\n",
    "    z1 = x.dot(W1) + b1\n",
    "    a1 = np.tanh(z1)\n",
    "    z2 = a1.dot(W2) + b2\n",
    "    exp_scores = np.exp(z2)\n",
    "    probs = exp_scores / np.sum(exp_scores, axis=1, keepdims=True)\n",
    "    return np.argmax(probs, axis=1)"
   ]
  },
  {
   "cell_type": "code",
   "execution_count": 163,
   "metadata": {
    "ExecuteTime": {
     "end_time": "2020-11-02T08:50:26.795059Z",
     "start_time": "2020-11-02T08:50:26.779436Z"
    },
    "id": "N_kkRSp083xe"
   },
   "outputs": [],
   "source": [
    "# Write downn ANN code from scratch\n",
    "def build_model(X, y, hiddendim, epochs=2500, print_loss=False):\n",
    "    num_examples = len(X)\n",
    "    np.random.seed(0)\n",
    "    W1 = np.random.randn(inpdim, hiddendim) / np.sqrt(inpdim)\n",
    "    b1 = np.zeros((1, hiddendim))\n",
    "    W2 = np.random.randn(hiddendim, outdim) / np.sqrt(hiddendim)\n",
    "    b2 = np.zeros((1, outdim))\n",
    "    params = {}\n",
    "    for i in range(0, epochs):\n",
    "        z1 = X.dot(W1) + b1\n",
    "        a1 = np.tanh(z1)\n",
    "        z2 = a1.dot(W2) + b2\n",
    "        exp_scores = np.exp(z2)\n",
    "        probs = exp_scores / np.sum(exp_scores, axis=1, keepdims=True)\n",
    "\n",
    "        delta3 = probs\n",
    "        delta3[range(num_examples), y] -= 1\n",
    "        dW2 = (a1.T).dot(delta3)\n",
    "        db2 = np.sum(delta3, axis=0, keepdims=True)\n",
    "        delta2 = delta3.dot(W2.T) * (1 - np.power(a1, 2))\n",
    "        dW1 = np.dot(X.T, delta2)\n",
    "        db1 = np.sum(delta2, axis=0)\n",
    "\n",
    "        dW2 += lambd * W2\n",
    "        dW1 += lambd * W1\n",
    "\n",
    "        W1 += -lr * dW1\n",
    "        b1 += -lr * db1\n",
    "        W2 += -lr * dW2\n",
    "        b2 += -lr * db2\n",
    "\n",
    "        params = {'W1': W1, 'b1': b1, 'W2': W2, 'b2': b2}\n",
    "        if print_loss and i % 100 == 0:\n",
    "            print(\"Loss after iteration %i: %f\" % (i, loss(X,y,params)))\n",
    "\n",
    "    return params"
   ]
  },
  {
   "cell_type": "code",
   "execution_count": 164,
   "metadata": {
    "ExecuteTime": {
     "end_time": "2020-11-02T08:50:27.581312Z",
     "start_time": "2020-11-02T08:50:27.043877Z"
    },
    "id": "q9Y8QmmB87ES"
   },
   "outputs": [
    {
     "name": "stdout",
     "output_type": "stream",
     "text": [
      "Loss after iteration 0: 1.075582\n",
      "Loss after iteration 100: 0.571105\n",
      "Loss after iteration 200: 0.697206\n",
      "Loss after iteration 300: 0.749958\n",
      "Loss after iteration 400: 0.722820\n",
      "Loss after iteration 500: 0.774668\n",
      "Loss after iteration 600: 0.761661\n",
      "Loss after iteration 700: 0.782538\n",
      "Loss after iteration 800: 0.806012\n",
      "Loss after iteration 900: 0.858584\n",
      "Loss after iteration 1000: 0.661800\n",
      "Loss after iteration 1100: 0.688316\n",
      "Loss after iteration 1200: 0.664779\n",
      "Loss after iteration 1300: 0.677732\n",
      "Loss after iteration 1400: 0.697715\n",
      "Loss after iteration 1500: 0.728125\n",
      "Loss after iteration 1600: 0.767805\n",
      "Loss after iteration 1700: 0.803690\n",
      "Loss after iteration 1800: 0.841007\n",
      "Loss after iteration 1900: 0.875711\n",
      "Loss after iteration 2000: 0.906670\n",
      "Loss after iteration 2100: 0.934328\n",
      "Loss after iteration 2200: 0.959254\n",
      "Loss after iteration 2300: 0.981750\n",
      "Loss after iteration 2400: 1.001676\n"
     ]
    }
   ],
   "source": [
    "# Train your own ANN model\n",
    "model = build_model(X_train, y_train, hiddendim, print_loss=True)"
   ]
  },
  {
   "cell_type": "code",
   "execution_count": 165,
   "metadata": {
    "ExecuteTime": {
     "end_time": "2020-11-02T08:50:28.936918Z",
     "start_time": "2020-11-02T08:50:28.921324Z"
    },
    "id": "exW8ef4l9Hr_"
   },
   "outputs": [
    {
     "name": "stdout",
     "output_type": "stream",
     "text": [
      "1.0\n",
      "0.9365079365079365\n"
     ]
    }
   ],
   "source": [
    "# Test your own ANN model and evaluate performance in terms of accuracy\n",
    "print(accuracy_score(y_train,predict(model,X_train)))\n",
    "print(accuracy_score(y_test,predict(model,X_test)))"
   ]
  },
  {
   "cell_type": "markdown",
   "metadata": {
    "id": "lJDNjH1c6g6b"
   },
   "source": [
    "##Task 2: Implement SKLEARN’s Artificial Neural Networks"
   ]
  },
  {
   "cell_type": "code",
   "execution_count": 166,
   "metadata": {
    "ExecuteTime": {
     "end_time": "2020-11-02T08:50:31.180032Z",
     "start_time": "2020-11-02T08:50:31.164410Z"
    },
    "id": "yuA3ZOMjtCR8"
   },
   "outputs": [],
   "source": [
    "#Obtain the training and testing set"
   ]
  },
  {
   "cell_type": "code",
   "execution_count": 171,
   "metadata": {
    "ExecuteTime": {
     "end_time": "2020-11-02T08:51:30.744964Z",
     "start_time": "2020-11-02T08:51:30.497567Z"
    },
    "id": "V-9wh8xW9Ok3"
   },
   "outputs": [
    {
     "name": "stdout",
     "output_type": "stream",
     "text": [
      "1.0\n",
      "0.9365079365079365\n"
     ]
    },
    {
     "name": "stderr",
     "output_type": "stream",
     "text": [
      "C:\\ProgramData\\Anaconda3\\lib\\site-packages\\sklearn\\neural_network\\_multilayer_perceptron.py:582: ConvergenceWarning: Stochastic Optimizer: Maximum iterations (200) reached and the optimization hasn't converged yet.\n",
      "  warnings.warn(\n"
     ]
    }
   ],
   "source": [
    "# Build SKLEARN's ANN model\n",
    "model=MLPClassifier(learning_rate_init=0.01,alpha=0.01)\n",
    "model.fit(X_train,y_train)\n",
    "print(accuracy_score(y_train,model.predict(X_train)))\n",
    "print(accuracy_score(y_test,model.predict(X_test)))"
   ]
  },
  {
   "cell_type": "code",
   "execution_count": null,
   "metadata": {
    "id": "X9ksVY5l9eyZ"
   },
   "outputs": [],
   "source": [
    "# Test your own ANN model and evaluate performance in terms of accuracy"
   ]
  },
  {
   "cell_type": "markdown",
   "metadata": {
    "id": "9x7jKz446syl"
   },
   "source": [
    "# Task 3: Play with hyper-parameters\n"
   ]
  },
  {
   "cell_type": "markdown",
   "metadata": {
    "id": "kaDXM9dM6unb"
   },
   "source": [
    "1.\tUse SKLEARN’s neural model\n",
    "2.\tEvaluate the impact of various hyper-parameters of neural networks\n",
    "3.\tPlot the results\n",
    "4.\tConclude the experiments by showing the impact of hyper-parameters on neural network"
   ]
  },
  {
   "cell_type": "code",
   "execution_count": 28,
   "metadata": {
    "ExecuteTime": {
     "end_time": "2020-11-02T11:22:01.841815Z",
     "start_time": "2020-11-02T11:22:01.804038Z"
    }
   },
   "outputs": [],
   "source": [
    "learning_rates=np.arange(0.001,0.02,0.001)\n",
    "reg=np.arange(0.001,0.02,0.001)\n",
    "neurons=np.arange(1,300,1)\n",
    "layers=[]"
   ]
  },
  {
   "cell_type": "code",
   "execution_count": 29,
   "metadata": {
    "ExecuteTime": {
     "end_time": "2020-11-02T11:22:03.175564Z",
     "start_time": "2020-11-02T11:22:03.160031Z"
    }
   },
   "outputs": [],
   "source": [
    "a=[]\n",
    "for i in range(1,20):\n",
    "    a.append(100)\n",
    "    layers.append(tuple(a))"
   ]
  },
  {
   "cell_type": "code",
   "execution_count": 21,
   "metadata": {
    "ExecuteTime": {
     "end_time": "2020-11-02T11:19:07.848662Z",
     "start_time": "2020-11-02T11:18:58.309457Z"
    }
   },
   "outputs": [
    {
     "name": "stdout",
     "output_type": "stream",
     "text": [
      "0 Models done\n",
      "2 Models done\n",
      "4 Models done\n",
      "6 Models done\n",
      "8 Models done\n",
      "10 Models done\n",
      "12 Models done\n",
      "14 Models done\n",
      "16 Models done\n",
      "18 Models done\n",
      "\n",
      "Reg models are going to execute now\n",
      "0 Models done\n",
      "2 Models done\n",
      "4 Models done\n",
      "6 Models done\n",
      "8 Models done\n",
      "10 Models done\n",
      "12 Models done\n",
      "14 Models done\n",
      "16 Models done\n",
      "18 Models done\n"
     ]
    }
   ],
   "source": [
    "lraccuracies=[]\n",
    "regaccuracies=[]\n",
    "for i in range(len(learning_rates)):\n",
    "    model=MLPClassifier(learning_rate_init=learning_rates[i])\n",
    "    model.fit(X_train,y_train)\n",
    "    lraccuracies.append({'train':accuracy_score(y_train,model.predict(X_train))\n",
    "                        ,'test':accuracy_score(y_test,model.predict(X_test))})\n",
    "    if(i%2==0):\n",
    "        print(str(i)+\" Models done\")\n",
    "print()\n",
    "print(\"Reg models are going to execute now\")\n",
    "for i in range(len(reg)):\n",
    "    model=MLPClassifier(alpha=reg[i])\n",
    "    model.fit(X_train,y_train)\n",
    "    regaccuracies.append({'train':accuracy_score(y_train,model.predict(X_train))\n",
    "                         ,'test':accuracy_score(y_test,model.predict(X_test))})\n",
    "    if(i%2==0):\n",
    "        print(str(i)+\" Models done\")"
   ]
  },
  {
   "cell_type": "code",
   "execution_count": 22,
   "metadata": {
    "ExecuteTime": {
     "end_time": "2020-11-02T11:19:13.339031Z",
     "start_time": "2020-11-02T11:19:12.976187Z"
    }
   },
   "outputs": [
    {
     "data": {
      "text/plain": [
       "[<matplotlib.lines.Line2D at 0x1ff7cb89dc0>]"
      ]
     },
     "execution_count": 22,
     "metadata": {},
     "output_type": "execute_result"
    },
    {
     "data": {
      "image/png": "[encoded data removed]",
      "text/plain": [
       "<Figure size 576x396 with 1 Axes>"
      ]
     },
     "metadata": {},
     "output_type": "display_data"
    }
   ],
   "source": [
    "import matplotlib.pyplot as plt\n",
    "plt.style.use('seaborn')\n",
    "plt.yscale('log')\n",
    "plt.ylabel('Accuracies (Red - Test, Blue - Train)')\n",
    "plt.xlabel('Learning Rates')\n",
    "plt.title('Accuracies x Learning Rates ')\n",
    "plt.plot(learning_rates,[lraccuracies[i]['train']*100 for i in range(len(learning_rates))])\n",
    "plt.plot(learning_rates,[lraccuracies[i]['test']*100 for i in range(len(learning_rates))],color='red')\n"
   ]
  },
  {
   "cell_type": "code",
   "execution_count": 23,
   "metadata": {
    "ExecuteTime": {
     "end_time": "2020-11-02T11:19:15.621233Z",
     "start_time": "2020-11-02T11:19:15.235609Z"
    }
   },
   "outputs": [
    {
     "data": {
      "text/plain": [
       "[<matplotlib.lines.Line2D at 0x1ff00a0b7f0>]"
      ]
     },
     "execution_count": 23,
     "metadata": {},
     "output_type": "execute_result"
    },
    {
     "data": {
      "image/png": "[encoded data removed]",
      "text/plain": [
       "<Figure size 576x396 with 1 Axes>"
      ]
     },
     "metadata": {},
     "output_type": "display_data"
    }
   ],
   "source": [
    "import matplotlib.pyplot as plt\n",
    "plt.style.use('seaborn')\n",
    "plt.yscale('log')\n",
    "plt.ylabel('Accuracies (Red - Test, Blue - Train)')\n",
    "plt.xlabel('Regularization Rates')\n",
    "plt.title('Accuracies x Regularization Rates ')\n",
    "plt.plot(reg,[regaccuracies[i]['train']*100 for i in range(len(reg))])\n",
    "plt.plot(reg,[regaccuracies[i]['test']*100 for i in range(len(reg))],color='red')\n"
   ]
  },
  {
   "cell_type": "code",
   "execution_count": 32,
   "metadata": {
    "ExecuteTime": {
     "end_time": "2020-11-02T11:24:50.606238Z",
     "start_time": "2020-11-02T11:23:23.330450Z"
    }
   },
   "outputs": [
    {
     "name": "stdout",
     "output_type": "stream",
     "text": [
      "10 Models done\n",
      "20 Models done\n",
      "30 Models done\n",
      "40 Models done\n",
      "50 Models done\n",
      "60 Models done\n",
      "70 Models done\n",
      "80 Models done\n",
      "90 Models done\n",
      "100 Models done\n",
      "110 Models done\n",
      "120 Models done\n",
      "130 Models done\n",
      "140 Models done\n",
      "150 Models done\n",
      "160 Models done\n",
      "170 Models done\n",
      "180 Models done\n",
      "190 Models done\n",
      "200 Models done\n",
      "210 Models done\n",
      "220 Models done\n",
      "230 Models done\n",
      "240 Models done\n",
      "250 Models done\n",
      "260 Models done\n",
      "270 Models done\n",
      "280 Models done\n",
      "290 Models done\n"
     ]
    }
   ],
   "source": [
    "naccuracies=[]\n",
    "for i in neurons:\n",
    "    model=MLPClassifier(hidden_layer_sizes=(i,))\n",
    "    model.fit(X_train,y_train)\n",
    "    naccuracies.append({'train':accuracy_score(y_train,model.predict(X_train))\n",
    "                        ,'test':accuracy_score(y_test,model.predict(X_test))})\n",
    "    if(i%10==0):\n",
    "        print(str(i)+\" Models done\")"
   ]
  },
  {
   "cell_type": "code",
   "execution_count": 36,
   "metadata": {
    "ExecuteTime": {
     "end_time": "2020-11-02T11:25:19.378421Z",
     "start_time": "2020-11-02T11:25:19.046728Z"
    }
   },
   "outputs": [
    {
     "data": {
      "text/plain": [
       "[<matplotlib.lines.Line2D at 0x1ff01d217c0>]"
      ]
     },
     "execution_count": 36,
     "metadata": {},
     "output_type": "execute_result"
    },
    {
     "data": {
      "image/png": "[encoded data removed]",
      "text/plain": [
       "<Figure size 576x396 with 1 Axes>"
      ]
     },
     "metadata": {},
     "output_type": "display_data"
    }
   ],
   "source": [
    "import matplotlib.pyplot as plt\n",
    "plt.style.use('seaborn')\n",
    "plt.yscale('log')\n",
    "plt.ylabel('Accuracies (Red - Test, Blue - Train)')\n",
    "plt.xlabel('Number of Neurons')\n",
    "plt.title('Accuracies x Number of Neurons ')\n",
    "plt.plot(neurons,[naccuracies[i]['train']*100 for i in range(len(neurons))])\n",
    "plt.plot(neurons,[naccuracies[i]['test']*100 for i in range(len(neurons))],color='red')\n"
   ]
  },
  {
   "cell_type": "code",
   "execution_count": 40,
   "metadata": {
    "ExecuteTime": {
     "end_time": "2020-11-02T11:27:58.226119Z",
     "start_time": "2020-11-02T11:27:33.123854Z"
    }
   },
   "outputs": [
    {
     "name": "stdout",
     "output_type": "stream",
     "text": [
      "2 Models done\n",
      "4 Models done\n",
      "6 Models done\n",
      "8 Models done\n",
      "10 Models done\n",
      "12 Models done\n",
      "14 Models done\n",
      "16 Models done\n",
      "18 Models done\n"
     ]
    }
   ],
   "source": [
    "laccuracies=[]\n",
    "c=0\n",
    "for i in layers:\n",
    "    model=MLPClassifier(hidden_layer_sizes=i)\n",
    "    model.fit(X_train,y_train)\n",
    "    laccuracies.append({'train':accuracy_score(y_train,model.predict(X_train))\n",
    "                        ,'test':accuracy_score(y_test,model.predict(X_test))})\n",
    "    c+=1\n",
    "    if(c%2==0):\n",
    "        print(str(c)+\" Models done\")\n",
    "    "
   ]
  },
  {
   "cell_type": "code",
   "execution_count": 46,
   "metadata": {
    "ExecuteTime": {
     "end_time": "2020-11-02T11:29:32.899045Z",
     "start_time": "2020-11-02T11:29:32.513483Z"
    }
   },
   "outputs": [
    {
     "data": {
      "text/plain": [
       "[<matplotlib.lines.Line2D at 0x1ff072613d0>]"
      ]
     },
     "execution_count": 46,
     "metadata": {},
     "output_type": "execute_result"
    },
    {
     "data": {
      "image/png": "[encoded data removed]",
      "text/plain": [
       "<Figure size 576x396 with 1 Axes>"
      ]
     },
     "metadata": {},
     "output_type": "display_data"
    }
   ],
   "source": [
    "import matplotlib.pyplot as plt\n",
    "plt.style.use('seaborn')\n",
    "plt.yscale('log')\n",
    "plt.ylabel('Accuracies (Red - Test, Blue - Train)')\n",
    "plt.xlabel('Number of Layers (100 Neurons each)')\n",
    "plt.title('Accuracies x Number of Neurons ')\n",
    "plt.plot([i for i in range(19)],[laccuracies[i]['train']*100 for i in range(19)])\n",
    "plt.plot([i for i in range(19)],[laccuracies[i]['test']*100 for i in range(19)],color='red')\n"
   ]
  },
  {
   "cell_type": "code",
   "execution_count": null,
   "metadata": {},
   "outputs": [],
   "source": []
  }
 ],
 "metadata": {
  "colab": {
   "name": "ANN_for_classification.ipynb",
   "provenance": []
  },
  "kernelspec": {
   "display_name": "Python 3",
   "language": "python",
   "name": "python3"
  },
  "language_info": {
   "codemirror_mode": {
    "name": "ipython",
    "version": 3
   },
   "file_extension": ".py",
   "mimetype": "text/x-python",
   "name": "python",
   "nbconvert_exporter": "python",
   "pygments_lexer": "ipython3",
   "version": "3.8.5"
  },
  "varInspector": {
   "cols": {
    "lenName": 16,
    "lenType": 16,
    "lenVar": 40
   },
   "kernels_config": {
    "python": {
     "delete_cmd_postfix": "",
     "delete_cmd_prefix": "del ",
     "library": "var_list.py",
     "varRefreshCmd": "print(var_dic_list())"
    },
    "r": {
     "delete_cmd_postfix": ") ",
     "delete_cmd_prefix": "rm(",
     "library": "var_list.r",
     "varRefreshCmd": "cat(var_dic_list()) "
    }
   },
   "types_to_exclude": [
    "module",
    "function",
    "builtin_function_or_method",
    "instance",
    "_Feature"
   ],
   "window_display": false
  }
 },
 "nbformat": 4,
 "nbformat_minor": 1
}
