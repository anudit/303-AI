{
  "nbformat": 4,
  "nbformat_minor": 0,
  "metadata": {
    "kernelspec": {
      "display_name": "Python 3",
      "language": "python",
      "name": "python3"
    },
    "language_info": {
      "codemirror_mode": {
        "name": "ipython",
        "version": 3
      },
      "file_extension": ".py",
      "mimetype": "text/x-python",
      "name": "python",
      "nbconvert_exporter": "python",
      "pygments_lexer": "ipython3",
      "version": "3.7.3"
    },
    "toc": {
      "base_numbering": 1,
      "nav_menu": {},
      "number_sections": true,
      "sideBar": true,
      "skip_h1_title": false,
      "title_cell": "Table of Contents",
      "title_sidebar": "Contents",
      "toc_cell": false,
      "toc_position": {},
      "toc_section_display": true,
      "toc_window_display": false
    },
    "colab": {
      "name": "ai-lab2-part2.ipynb",
      "provenance": [],
      "toc_visible": true
    }
  },
  "cells": [
    {
      "cell_type": "markdown",
      "metadata": {
        "id": "xhm0T6J5iUuZ",
        "colab_type": "text"
      },
      "source": [
        "#### Predict your scores better :)\n",
        "As you saw in the previous simple linear regression task that previous year grades (G2) have significant correlation with third year grades (G3). But G2 is not direct causation of G3, there are many factors which determine G3. Let's add few more variables which may help to determine G3."
      ]
    },
    {
      "cell_type": "markdown",
      "metadata": {
        "id": "54JMqHJZiUua",
        "colab_type": "text"
      },
      "source": [
        "### Multiple linear regression\n",
        "Multiple linear regression is simply the linear regression extended to problems where the dependent or output variable is determined by more than one independent variable.<br>\n",
        "\n",
        "#####  $\\hat{y}$ (w, x) = w_0 + w_1 * x_1 + ... + w_p * x_ps\n",
        "\n",
        "#### Dataset\n",
        "The dataset is available at __\"data/multiple_linear_data.csv\"__ in the respective challenge's repo.<br><br>\n",
        "\n",
        "This is the __modified version__ of the dataset *'Student Performance'* provided by UCI Machine Learning repository.<br>\n",
        "Original dataset: https://archive.ics.uci.edu/ml/datasets/student+performance\n",
        "\n",
        "#### Features (X)\n",
        "1. age - student's age (numeric: from 15 to 22)\n",
        "2. address - student's home address type (binary: 'U' - urban or 'R' - rural)\n",
        "3. famsize - family size (binary: 'LE3' - less or equal to 3 or 'GT3' - greater than 3)\n",
        "4. reason - reason to choose this school (nominal: close to 'home', school 'reputation', 'course' preference or 'other')\n",
        "5. studytime - weekly study time (numeric: 1 - <2 hours, 2 - 2 to 5 hours, 3 - 5 to 10 hours, or 4 - >10 hours)\n",
        "6. failures - number of past class failures (numeric: n if 1<=n<3, else 4)\n",
        "7. schoolsup - extra educational support (binary: yes or no)\n",
        "8. famsup - family educational support (binary: yes or no)\n",
        "9. paid - extra paid classes within the course subject (Math or Portuguese) (binary: yes or no)\n",
        "10. activities - extra-curricular activities (binary: yes or no)\n",
        "11. higher - wants to take higher education (binary: yes or no)\n",
        "12. internet - Internet access at home (binary: yes or no)\n",
        "13. romantic - with a romantic relationship (binary: yes or no)\n",
        "14. freetime - free time after school (numeric: from 1 - very low to 5 - very high)\n",
        "15. goout - going out with friends (numeric: from 1 - very low to 5 - very high)\n",
        "16. health - current health status (numeric: from 1 - very bad to 5 - very good)\n",
        "17. absences - number of school absences (numeric: from 0 to 93)\n",
        "18. G1 - first year math grades (numeric: from 0 to 100)\n",
        "19. G2 - second year math grades (numeric: from 0 to 100)\n",
        "\n",
        "#### Output target (Y) \n",
        "20. G3 - final year math grades (numeric: from 0 to 100, output target)\n",
        "\n",
        "#### Objective\n",
        "To learn multiple linear regression and practice handling categorical features\n",
        "\n",
        "#### Tasks\n",
        "- To load the data and print first 5 rows\n",
        "- Transform categorical features into numerical features. Use either one hot encoding, label encoding or any other suitable preprocessing technique.\n",
        "- Define X matrix (independent features) and y vector (target feature)\n",
        "- Train Linear Regression Model (sklearn.linear_model.LinearRegression class)\n",
        "- Print 'Mean Squared Error' (MSE) obtained on the same dataset i.e. same X and y (sklearn.metrics.mean_squared_error function)\n",
        "- Predict on a numpy array defined by you\n",
        "```python\n",
        ">>> new_data = np.array([1,0,1,.....,30,20]).reshape(1,-1)\n",
        ">>> print(\"Predicted grade:\",model.predict(new_data))\n",
        "```\n",
        "\n",
        "#### Further fun (will not be evaluated)\n",
        "- Train LassoRegression and RidgeRegression as well. Read about them from scikit-learn user guide.\n",
        "- *Step-up challenge*: Get down the MSE (mean squared error) below 3.25 using linear models\n",
        "- Implement multiple linear regression from scratch\n",
        "- Plot loss curve (Loss vs number of iterations)\n",
        "\n",
        "#### Helpful links\n",
        "- Scikit-learn documentation for linear regression: https://scikit-learn.org/stable/modules/generated/sklearn.linear_model.LinearRegression.html\n",
        "- Read till where you feel comfortable: https://jakevdp.github.io/PythonDataScienceHandbook/05.06-linear-regression.html\n",
        "- Use slack for doubts: https://join.slack.com/t/deepconnectai/shared_invite/zt-givlfnf6-~cn3SQ43k0BGDrG9_YOn4g"
      ]
    },
    {
      "cell_type": "code",
      "metadata": {
        "id": "cAh746CGiUub",
        "colab_type": "code",
        "colab": {}
      },
      "source": [
        "import numpy as np\n",
        "import pandas as pd\n",
        "from sklearn.linear_model import LinearRegression\n",
        "from sklearn.preprocessing import LabelEncoder\n",
        "from sklearn.metrics import mean_squared_error"
      ],
      "execution_count": 4,
      "outputs": []
    },
    {
      "cell_type": "code",
      "metadata": {
        "id": "5GM_123ziUud",
        "colab_type": "code",
        "colab": {
          "base_uri": "https://localhost:8080/",
          "height": 204
        },
        "outputId": "ebd5c020-0154-4234-8f27-5c23b32677ef"
      },
      "source": [
        "# NOTE: DO NOT CHANGE THE VARIABLE NAME(S) IN THIS CELL\n",
        "# Load the data\n",
        "data = pd.read_csv(\"multiple_linear_data.csv\")\n",
        "data.head()"
      ],
      "execution_count": 5,
      "outputs": [
        {
          "output_type": "execute_result",
          "data": {
            "text/html": [
              "<div>\n",
              "<style scoped>\n",
              "    .dataframe tbody tr th:only-of-type {\n",
              "        vertical-align: middle;\n",
              "    }\n",
              "\n",
              "    .dataframe tbody tr th {\n",
              "        vertical-align: top;\n",
              "    }\n",
              "\n",
              "    .dataframe thead th {\n",
              "        text-align: right;\n",
              "    }\n",
              "</style>\n",
              "<table border=\"1\" class=\"dataframe\">\n",
              "  <thead>\n",
              "    <tr style=\"text-align: right;\">\n",
              "      <th></th>\n",
              "      <th>age</th>\n",
              "      <th>address</th>\n",
              "      <th>famsize</th>\n",
              "      <th>reason</th>\n",
              "      <th>studytime</th>\n",
              "      <th>failures</th>\n",
              "      <th>schoolsup</th>\n",
              "      <th>famsup</th>\n",
              "      <th>paid</th>\n",
              "      <th>activities</th>\n",
              "      <th>higher</th>\n",
              "      <th>internet</th>\n",
              "      <th>romantic</th>\n",
              "      <th>freetime</th>\n",
              "      <th>goout</th>\n",
              "      <th>health</th>\n",
              "      <th>absences</th>\n",
              "      <th>G1</th>\n",
              "      <th>G2</th>\n",
              "      <th>G3</th>\n",
              "    </tr>\n",
              "  </thead>\n",
              "  <tbody>\n",
              "    <tr>\n",
              "      <th>0</th>\n",
              "      <td>18</td>\n",
              "      <td>U</td>\n",
              "      <td>GT3</td>\n",
              "      <td>course</td>\n",
              "      <td>2</td>\n",
              "      <td>0</td>\n",
              "      <td>yes</td>\n",
              "      <td>no</td>\n",
              "      <td>no</td>\n",
              "      <td>no</td>\n",
              "      <td>yes</td>\n",
              "      <td>no</td>\n",
              "      <td>no</td>\n",
              "      <td>3</td>\n",
              "      <td>4</td>\n",
              "      <td>3</td>\n",
              "      <td>6</td>\n",
              "      <td>25</td>\n",
              "      <td>30</td>\n",
              "      <td>30</td>\n",
              "    </tr>\n",
              "    <tr>\n",
              "      <th>1</th>\n",
              "      <td>17</td>\n",
              "      <td>U</td>\n",
              "      <td>GT3</td>\n",
              "      <td>course</td>\n",
              "      <td>2</td>\n",
              "      <td>0</td>\n",
              "      <td>no</td>\n",
              "      <td>yes</td>\n",
              "      <td>no</td>\n",
              "      <td>no</td>\n",
              "      <td>yes</td>\n",
              "      <td>yes</td>\n",
              "      <td>no</td>\n",
              "      <td>3</td>\n",
              "      <td>3</td>\n",
              "      <td>3</td>\n",
              "      <td>4</td>\n",
              "      <td>25</td>\n",
              "      <td>25</td>\n",
              "      <td>30</td>\n",
              "    </tr>\n",
              "    <tr>\n",
              "      <th>2</th>\n",
              "      <td>15</td>\n",
              "      <td>U</td>\n",
              "      <td>LE3</td>\n",
              "      <td>other</td>\n",
              "      <td>2</td>\n",
              "      <td>3</td>\n",
              "      <td>yes</td>\n",
              "      <td>no</td>\n",
              "      <td>yes</td>\n",
              "      <td>no</td>\n",
              "      <td>yes</td>\n",
              "      <td>yes</td>\n",
              "      <td>no</td>\n",
              "      <td>3</td>\n",
              "      <td>2</td>\n",
              "      <td>3</td>\n",
              "      <td>10</td>\n",
              "      <td>35</td>\n",
              "      <td>40</td>\n",
              "      <td>50</td>\n",
              "    </tr>\n",
              "    <tr>\n",
              "      <th>3</th>\n",
              "      <td>15</td>\n",
              "      <td>U</td>\n",
              "      <td>GT3</td>\n",
              "      <td>home</td>\n",
              "      <td>3</td>\n",
              "      <td>0</td>\n",
              "      <td>no</td>\n",
              "      <td>yes</td>\n",
              "      <td>yes</td>\n",
              "      <td>yes</td>\n",
              "      <td>yes</td>\n",
              "      <td>yes</td>\n",
              "      <td>yes</td>\n",
              "      <td>2</td>\n",
              "      <td>2</td>\n",
              "      <td>5</td>\n",
              "      <td>2</td>\n",
              "      <td>75</td>\n",
              "      <td>70</td>\n",
              "      <td>75</td>\n",
              "    </tr>\n",
              "    <tr>\n",
              "      <th>4</th>\n",
              "      <td>16</td>\n",
              "      <td>U</td>\n",
              "      <td>GT3</td>\n",
              "      <td>home</td>\n",
              "      <td>2</td>\n",
              "      <td>0</td>\n",
              "      <td>no</td>\n",
              "      <td>yes</td>\n",
              "      <td>yes</td>\n",
              "      <td>no</td>\n",
              "      <td>yes</td>\n",
              "      <td>no</td>\n",
              "      <td>no</td>\n",
              "      <td>3</td>\n",
              "      <td>2</td>\n",
              "      <td>5</td>\n",
              "      <td>4</td>\n",
              "      <td>30</td>\n",
              "      <td>50</td>\n",
              "      <td>50</td>\n",
              "    </tr>\n",
              "  </tbody>\n",
              "</table>\n",
              "</div>"
            ],
            "text/plain": [
              "   age address famsize  reason  studytime  ...  health absences  G1  G2  G3\n",
              "0   18       U     GT3  course          2  ...       3        6  25  30  30\n",
              "1   17       U     GT3  course          2  ...       3        4  25  25  30\n",
              "2   15       U     LE3   other          2  ...       3       10  35  40  50\n",
              "3   15       U     GT3    home          3  ...       5        2  75  70  75\n",
              "4   16       U     GT3    home          2  ...       5        4  30  50  50\n",
              "\n",
              "[5 rows x 20 columns]"
            ]
          },
          "metadata": {
            "tags": []
          },
          "execution_count": 5
        }
      ]
    },
    {
      "cell_type": "code",
      "metadata": {
        "id": "-9mP8BmziUuf",
        "colab_type": "code",
        "colab": {}
      },
      "source": [
        "# You may need original list of columns to interpret the features after transformation, maybe\n",
        "orig_cols = data.columns"
      ],
      "execution_count": 6,
      "outputs": []
    },
    {
      "cell_type": "code",
      "metadata": {
        "id": "PTOwCFH3iUui",
        "colab_type": "code",
        "colab": {}
      },
      "source": [
        "# Handle categorical values\n",
        "le=LabelEncoder()\n",
        "col=data.select_dtypes(exclude=['int64']).columns.tolist()\n",
        "data[col]=data[col].apply(le.fit_transform)"
      ],
      "execution_count": 7,
      "outputs": []
    },
    {
      "cell_type": "code",
      "metadata": {
        "id": "abUNtenAiUur",
        "colab_type": "code",
        "colab": {}
      },
      "source": [
        "# Define your X and y\n",
        "X= data[data.columns[0:19]].values\n",
        "y= data[data.columns[19:]].values"
      ],
      "execution_count": 9,
      "outputs": []
    },
    {
      "cell_type": "code",
      "metadata": {
        "id": "R53_kdRmiUut",
        "colab_type": "code",
        "colab": {}
      },
      "source": [
        "# Initialize the model\n",
        "model=LinearRegression(10)"
      ],
      "execution_count": 8,
      "outputs": []
    },
    {
      "cell_type": "code",
      "metadata": {
        "id": "h-Ix24RJiUuv",
        "colab_type": "code",
        "colab": {
          "base_uri": "https://localhost:8080/",
          "height": 34
        },
        "outputId": "edfe55f1-14c0-4c6d-c44d-ab58c5495e09"
      },
      "source": [
        "# Fit the model. Wait! We will complete this step for you ;)\n",
        "model.fit(X, y)"
      ],
      "execution_count": 10,
      "outputs": [
        {
          "output_type": "execute_result",
          "data": {
            "text/plain": [
              "LinearRegression(copy_X=True, fit_intercept=10, n_jobs=None, normalize=False)"
            ]
          },
          "metadata": {
            "tags": []
          },
          "execution_count": 10
        }
      ]
    },
    {
      "cell_type": "code",
      "metadata": {
        "id": "2UvGT8YhiUux",
        "colab_type": "code",
        "colab": {
          "base_uri": "https://localhost:8080/",
          "height": 51
        },
        "outputId": "cd9a9a7d-0a64-4857-9c0a-11654b51907b"
      },
      "source": [
        "# Print mean squared error\n",
        "y_preds = model.predict(X)\n",
        "mse=mean_squared_error(y,y_preds)\n",
        "print(f\"\\nMSE: {mse}\")"
      ],
      "execution_count": 11,
      "outputs": [
        {
          "output_type": "stream",
          "text": [
            "\n",
            "MSE: 85.71253099296834\n"
          ],
          "name": "stdout"
        }
      ]
    },
    {
      "cell_type": "code",
      "metadata": {
        "id": "wEIKj0_FiUuz",
        "colab_type": "code",
        "colab": {
          "base_uri": "https://localhost:8080/",
          "height": 34
        },
        "outputId": "af38ebb9-4215-42a2-801d-4850859a5b20"
      },
      "source": [
        "# Predict on your own data\n",
        "new_data = [0,2,3,4,5,6,7,8,10,19,20,78,99,45,32,65,76,87,4]\n",
        "print(\"Predicted grade:\",model.predict([new_data]))"
      ],
      "execution_count": 13,
      "outputs": [
        {
          "output_type": "stream",
          "text": [
            "Predicted grade: [[-134.44060519]]\n"
          ],
          "name": "stdout"
        }
      ]
    }
  ]
}